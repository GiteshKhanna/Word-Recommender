{
 "cells": [
  {
   "cell_type": "code",
   "execution_count": 103,
   "metadata": {},
   "outputs": [],
   "source": [
    "import numpy as np\n",
    "np.random.seed(42)\n",
    "import tensorflow as tf\n",
    "tf.set_random_seed(42)\n",
    "from keras.models import Sequential, load_model\n",
    "from keras.layers import Dense, Activation\n",
    "from keras.layers import LSTM, Dropout, GRU\n",
    "from keras.layers import TimeDistributed\n",
    "from keras.layers.core import Dense, Activation, Dropout, RepeatVector\n",
    "from keras.optimizers import Adam,RMSprop\n",
    "import matplotlib.pyplot as plt\n",
    "import pickle\n",
    "import sys\n",
    "import heapq\n",
    "import seaborn as sns\n",
    "from pylab import rcParams\n",
    "from nltk.corpus import PlaintextCorpusReader\n",
    "\n",
    "%matplotlib inline"
   ]
  },
  {
   "cell_type": "code",
   "execution_count": 104,
   "metadata": {},
   "outputs": [
    {
     "name": "stdout",
     "output_type": "stream",
     "text": [
      "corpus length: 600901\n",
      "35.34664679582713\n"
     ]
    }
   ],
   "source": [
    "#Character Level Reading\n",
    "\n",
    "\n",
    "path = 'nietzsche.txt'\n",
    "text = open(path).read().lower()\n",
    "print('corpus length:', len(text))\n",
    "\n",
    "myText = PlaintextCorpusReader('./','nietzsche.txt')\n",
    "avg_word_len = len(myText.words('nietzsche.txt'))/len(myText.sents('nietzsche.txt'))\n",
    "print(avg_word_len)"
   ]
  },
  {
   "cell_type": "code",
   "execution_count": 105,
   "metadata": {},
   "outputs": [
    {
     "name": "stdout",
     "output_type": "stream",
     "text": [
      "59\n"
     ]
    }
   ],
   "source": [
    "#Creating mappings(Dictionaries) for char->index , index->char\n",
    "\n",
    "chars = sorted(list(set(text)))\n",
    "char_indices = dict((c,i) for i,c in enumerate(chars))\n",
    "indices_char = dict((i,c) for i,c in enumerate(chars))\n",
    "print(len(chars))\n",
    "#char_indices"
   ]
  },
  {
   "cell_type": "code",
   "execution_count": 126,
   "metadata": {},
   "outputs": [],
   "source": [
    "SEQUENCE_LENGTH = 40\n",
    "step = 3\n",
    "sentences = []\n",
    "next_chars = []\n",
    "for i in range(0, len(text) - SEQUENCE_LENGTH, step):\n",
    "    sentences.append(text[i: i + SEQUENCE_LENGTH])\n",
    "    next_chars.append(text[i + SEQUENCE_LENGTH])"
   ]
  },
  {
   "cell_type": "code",
   "execution_count": 127,
   "metadata": {},
   "outputs": [
    {
     "name": "stdout",
     "output_type": "stream",
     "text": [
      "Number of Training Examples:  200287\n",
      "Training Sample:   is a woman--what then? is there not gro \n",
      " Predict:  u\n"
     ]
    }
   ],
   "source": [
    "example_index = 10\n",
    "print('Number of Training Examples: ',len(next_chars))\n",
    "print('Training Sample: ',sentences[example_index],'\\n','Predict: ',next_chars[example_index])"
   ]
  },
  {
   "cell_type": "code",
   "execution_count": 88,
   "metadata": {},
   "outputs": [],
   "source": [
    "#Creating One hot Encodings\n",
    "\n",
    "creator = np.eye(len(chars),dtype= np.bool)\n",
    "x = np.zeros((len(sentences),SEQUENCE_LENGTH, len(chars)), dtype=np.bool)\n",
    "y = np.zeros((len(sentences),len(chars)), dtype=bool)\n",
    "\n",
    "for i in range(0,len(sentences)):\n",
    "    for j in range(0,SEQUENCE_LENGTH):\n",
    "        x[i][j] = creator[char_indices[sentences[i][j]]]\n",
    "        \n",
    "    y[i] = creator[char_indices[next_chars[i]]]"
   ]
  },
  {
   "cell_type": "code",
   "execution_count": 89,
   "metadata": {
    "scrolled": true
   },
   "outputs": [
    {
     "name": "stdout",
     "output_type": "stream",
     "text": [
      "Shape of X:  (200288, 38, 59)\n",
      "Shape of Y:  (200288, 59)\n",
      "Example of X:  [[False False False ... False False False]\n",
      " [False False False ... False False False]\n",
      " [False False False ... False False False]\n",
      " ...\n",
      " [False  True False ... False False False]\n",
      " [False False False ... False False False]\n",
      " [False False False ... False False False]]\n",
      "Corresponding Y:  [False False False False False False False False False False False False\n",
      " False False False False False False False False False False False False\n",
      " False False False False False False False False False False False False\n",
      " False False False  True False False False False False False False False\n",
      " False False False False False False False False False False False]\n"
     ]
    }
   ],
   "source": [
    "print('Shape of X: ',x.shape)\n",
    "print('Shape of Y: ',y.shape)\n",
    "\n",
    "print('Example of X: ',x[0])\n",
    "print('Corresponding Y: ',y[0])"
   ]
  },
  {
   "cell_type": "code",
   "execution_count": 90,
   "metadata": {},
   "outputs": [],
   "source": [
    "model = Sequential()\n",
    "model.add(LSTM(128, activation='tanh', input_shape = (SEQUENCE_LENGTH,len(chars))))\n",
    "model.add(Dense(len(chars)))\n",
    "model.add(Activation('softmax'))"
   ]
  },
  {
   "cell_type": "code",
   "execution_count": 91,
   "metadata": {},
   "outputs": [
    {
     "name": "stdout",
     "output_type": "stream",
     "text": [
      "Train on 190273 samples, validate on 10015 samples\n",
      "Epoch 1/20\n",
      "190273/190273 [==============================] - 158s 833us/step - loss: 1.9701 - acc: 0.4230 - val_loss: 1.7095 - val_acc: 0.4867\n",
      "Epoch 2/20\n",
      "190273/190273 [==============================] - 154s 808us/step - loss: 1.7298 - acc: 0.4869 - val_loss: 1.6684 - val_acc: 0.5017\n",
      "Epoch 3/20\n",
      "190273/190273 [==============================] - 156s 822us/step - loss: 2.4888 - acc: 0.2985 - val_loss: 2.1216 - val_acc: 0.3775\n",
      "Epoch 4/20\n",
      "190273/190273 [==============================] - 157s 827us/step - loss: 1.9522 - acc: 0.4280 - val_loss: 1.9828 - val_acc: 0.4238\n",
      "Epoch 5/20\n",
      "190273/190273 [==============================] - 157s 827us/step - loss: 2.2830 - acc: 0.3434 - val_loss: 2.3722 - val_acc: 0.3096\n",
      "Epoch 6/20\n",
      "190273/190273 [==============================] - 158s 833us/step - loss: 2.8389 - acc: 0.2087 - val_loss: 2.8409 - val_acc: 0.2024\n",
      "Epoch 7/20\n",
      "190273/190273 [==============================] - 159s 835us/step - loss: 3.0133 - acc: 0.1621 - val_loss: 2.9348 - val_acc: 0.1849\n",
      "Epoch 8/20\n",
      "190273/190273 [==============================] - 160s 839us/step - loss: 3.0028 - acc: 0.1640 - val_loss: 2.9285 - val_acc: 0.1635\n",
      "Epoch 9/20\n",
      "190273/190273 [==============================] - 158s 830us/step - loss: 2.9650 - acc: 0.1726 - val_loss: 3.0031 - val_acc: 0.1854\n",
      "Epoch 10/20\n",
      "190273/190273 [==============================] - 156s 818us/step - loss: 3.0276 - acc: 0.1584 - val_loss: 3.0475 - val_acc: 0.1358\n",
      "Epoch 11/20\n",
      "190273/190273 [==============================] - 154s 810us/step - loss: 3.0669 - acc: 0.1479 - val_loss: 3.0414 - val_acc: 0.1449\n",
      "Epoch 12/20\n",
      "190273/190273 [==============================] - 154s 812us/step - loss: 3.0960 - acc: 0.1383 - val_loss: 3.0817 - val_acc: 0.1553\n",
      "Epoch 13/20\n",
      "190273/190273 [==============================] - 154s 811us/step - loss: 3.0980 - acc: 0.1380 - val_loss: 3.0622 - val_acc: 0.1477\n",
      "Epoch 14/20\n",
      "190273/190273 [==============================] - 155s 816us/step - loss: 3.0911 - acc: 0.1383 - val_loss: 3.0569 - val_acc: 0.1516\n",
      "Epoch 15/20\n",
      "190273/190273 [==============================] - 155s 814us/step - loss: 3.0914 - acc: 0.1379 - val_loss: 3.0522 - val_acc: 0.1513\n",
      "Epoch 16/20\n",
      "190273/190273 [==============================] - 156s 819us/step - loss: 3.0925 - acc: 0.1385 - val_loss: 3.0422 - val_acc: 0.1391\n",
      "Epoch 17/20\n",
      "190273/190273 [==============================] - 155s 815us/step - loss: 3.0840 - acc: 0.1400 - val_loss: 3.0253 - val_acc: 0.1319\n",
      "Epoch 18/20\n",
      "190273/190273 [==============================] - 155s 817us/step - loss: 3.0962 - acc: 0.1360 - val_loss: 3.1035 - val_acc: 0.1296\n",
      "Epoch 19/20\n",
      "190273/190273 [==============================] - 156s 818us/step - loss: 3.0940 - acc: 0.1369 - val_loss: 3.0522 - val_acc: 0.1450\n",
      "Epoch 20/20\n",
      "190273/190273 [==============================] - 156s 820us/step - loss: 3.0890 - acc: 0.1392 - val_loss: 3.1054 - val_acc: 0.1688\n"
     ]
    }
   ],
   "source": [
    "optimizer = RMSprop(lr = 0.01)\n",
    "model.compile(loss='categorical_crossentropy', optimizer = optimizer, metrics=['accuracy'])\n",
    "\n",
    "history = model.fit(x,y, validation_split=0.05, batch_size=128, epochs=20, shuffle=True).history"
   ]
  },
  {
   "cell_type": "code",
   "execution_count": 114,
   "metadata": {},
   "outputs": [],
   "source": [
    "#Saving the model\n",
    "#File save format: (KP)_(CORPUS)_(SEQUENCE_LENGTH)_(STEP)_(EPOCHS).h5\n",
    "filename = 'KP_nietzsche_40_3_20_rms'\n",
    "\n"
   ]
  },
  {
   "cell_type": "code",
   "execution_count": null,
   "metadata": {},
   "outputs": [],
   "source": [
    "#CAREFUL---SAVING MODEL---CAREFUL\n",
    "\n",
    "model.save(filename+'.h5')\n",
    "pickle.dump(history, open(filename+'.p', 'wb'))"
   ]
  },
  {
   "cell_type": "code",
   "execution_count": 116,
   "metadata": {},
   "outputs": [],
   "source": [
    "#loading model\n",
    "\n",
    "model = load_model(filename+'.h5')\n",
    "history = pickle.load(open(filename+'.p', 'rb'))"
   ]
  },
  {
   "cell_type": "code",
   "execution_count": 117,
   "metadata": {},
   "outputs": [
    {
     "data": {
      "text/plain": [
       "<matplotlib.legend.Legend at 0x17a154fd8d0>"
      ]
     },
     "execution_count": 117,
     "metadata": {},
     "output_type": "execute_result"
    },
    {
     "data": {
      "image/png": "[encoded data removed]",
      "text/plain": [
       "<matplotlib.figure.Figure at 0x17a10f6cb70>"
      ]
     },
     "metadata": {},
     "output_type": "display_data"
    }
   ],
   "source": [
    "plt.plot(history['acc'])\n",
    "plt.plot(history['val_acc'])\n",
    "plt.title('Model Accuracy')\n",
    "plt.ylabel('accuracy')\n",
    "plt.xlabel('epoch')\n",
    "plt.legend(['train', 'test'], loc = 'upper left')"
   ]
  },
  {
   "cell_type": "code",
   "execution_count": 118,
   "metadata": {},
   "outputs": [
    {
     "data": {
      "image/png": "[encoded data removed]",
      "text/plain": [
       "<matplotlib.figure.Figure at 0x17a154e9160>"
      ]
     },
     "metadata": {},
     "output_type": "display_data"
    }
   ],
   "source": [
    "plt.plot(history['loss'])\n",
    "plt.plot(history['val_loss'])\n",
    "plt.title('Model Loss')\n",
    "plt.ylabel('loss')\n",
    "plt.xlabel('epoch')\n",
    "plt.legend(['train', 'test'], loc='upper left');"
   ]
  },
  {
   "cell_type": "code",
   "execution_count": 119,
   "metadata": {},
   "outputs": [
    {
     "data": {
      "text/plain": [
       "'\\ndef prepare_input(text):\\n    x = np.zeros((1, SEQUENCE_LENGTH, len(chars)))\\n    for t, char in enumerate(text):\\n        x[0, t, char_indices[char]] = 1.\\n        \\n    return x\\n'"
      ]
     },
     "execution_count": 119,
     "metadata": {},
     "output_type": "execute_result"
    }
   ],
   "source": [
    "\n",
    "def prepare_input(text):\n",
    "    sample_shape = (1,SEQUENCE_LENGTH,len(chars))\n",
    "    sample_sentence = np.zeros((1, SEQUENCE_LENGTH, len(chars)), dtype=bool)\n",
    "\n",
    "    for i in range(0,len(text)):\n",
    "        sample_sentence[0][i] = creator[char_indices[text[i]]]\n",
    "    \n",
    "    \n",
    "    sample_sentence.reshape(sample_shape)\n",
    "    \n",
    "    return sample_sentence\n",
    "'''\n",
    "def prepare_input(text):\n",
    "    x = np.zeros((1, SEQUENCE_LENGTH, len(chars)))\n",
    "    for t, char in enumerate(text):\n",
    "        x[0, t, char_indices[char]] = 1.\n",
    "        \n",
    "    return x\n",
    "'''"
   ]
  },
  {
   "cell_type": "code",
   "execution_count": 120,
   "metadata": {},
   "outputs": [
    {
     "data": {
      "text/plain": [
       "'i'"
      ]
     },
     "execution_count": 120,
     "metadata": {},
     "output_type": "execute_result"
    }
   ],
   "source": [
    "one_hot_input = prepare_input('This is an example.'.lower())\n",
    "\n",
    "index = 2 \n",
    "#Index in the above sentence\n",
    "\n",
    "#Verifying\n",
    "indices_char[np.argmax(one_hot_input[0][index])]"
   ]
  },
  {
   "cell_type": "code",
   "execution_count": 121,
   "metadata": {},
   "outputs": [],
   "source": [
    "def sample(preds, top_n=3):\n",
    "    preds = np.asarray(preds).astype('float64')\n",
    "    preds = np.log(preds)\n",
    "    exp_preds = np.exp(preds)\n",
    "    preds = exp_preds / np.sum(exp_preds)\n",
    "    \n",
    "    return heapq.nlargest(top_n, range(len(preds)), preds.take)"
   ]
  },
  {
   "cell_type": "code",
   "execution_count": 122,
   "metadata": {},
   "outputs": [],
   "source": [
    "def predict_completion(text):\n",
    "    original_text = text\n",
    "    generated = text\n",
    "    completion = ''\n",
    "    while True:\n",
    "        x = prepare_input(text)\n",
    "        preds = model.predict(x, verbose=0)[0]\n",
    "        next_index = sample(preds, top_n=3)[0]\n",
    "        next_char = indices_char[next_index]\n",
    "        text = text[1:] + next_char\n",
    "        completion += next_char\n",
    "        \n",
    "        if len(original_text + completion) + 2 > len(original_text) and next_char == ' ':\n",
    "            return completion"
   ]
  },
  {
   "cell_type": "code",
   "execution_count": 123,
   "metadata": {},
   "outputs": [],
   "source": [
    "def predict_completions(text, n=3):\n",
    "    x = prepare_input(text)\n",
    "    preds = model.predict(x, verbose=0)[0]\n",
    "    next_indices = sample(preds, n)\n",
    "    return [indices_char[idx] + predict_completion(text[1:] + indices_char[idx]) for idx in next_indices]"
   ]
  },
  {
   "cell_type": "code",
   "execution_count": 124,
   "metadata": {},
   "outputs": [],
   "source": [
    "quotes = [\n",
    "    \"It is not a lack of love, but a lack of friendship that makes unhappy marriages.\",\n",
    "    \"That which does not kill us makes us stronger.\",\n",
    "    \"I'm not upset that you lied to me, I'm upset that from now on I can't believe you.\",\n",
    "    \"And those who were seen dancing were thought to be insane by those who could not hear the music.\",\n",
    "    \"It is hard enough to remember my opinions, without also remembering my reasons for them!\"\n",
    "]"
   ]
  },
  {
   "cell_type": "code",
   "execution_count": 128,
   "metadata": {},
   "outputs": [
    {
     "name": "stdout",
     "output_type": "stream",
     "text": [
      "it is not a lack of love, but a lack of \n",
      "['the ', 'all ', 'such ', 'constance, ', 'man ']\n",
      "\n",
      "that which does not kill us makes us str\n",
      "['uggless, ', 'ong ', 'ict ', 'ength ', 'ange ']\n",
      "\n",
      "i'm not upset that you lied to me, i'm u\n",
      "['niversal ', 'ltimates ', 'sual ', 'tteral ', 'pon ']\n",
      "\n",
      "and those who were seen dancing were tho\n",
      "['se ', 'usand ', 'rough ', 'le ', 'on ']\n",
      "\n",
      "it is hard enough to remember my opinion\n",
      "[' of ', ', ', '. ', 's ', '\\nand ']\n",
      "\n"
     ]
    }
   ],
   "source": [
    "for q in quotes:\n",
    "    seq = q[:40].lower()\n",
    "    print(seq)\n",
    "    print(predict_completions(seq, 5))\n",
    "    print()"
   ]
  },
  {
   "cell_type": "code",
   "execution_count": null,
   "metadata": {},
   "outputs": [],
   "source": []
  }
 ],
 "metadata": {
  "kernelspec": {
   "display_name": "Python 3",
   "language": "python",
   "name": "python3"
  },
  "language_info": {
   "codemirror_mode": {
    "name": "ipython",
    "version": 3
   },
   "file_extension": ".py",
   "mimetype": "text/x-python",
   "name": "python",
   "nbconvert_exporter": "python",
   "pygments_lexer": "ipython3",
   "version": "3.6.3"
  }
 },
 "nbformat": 4,
 "nbformat_minor": 2
}
